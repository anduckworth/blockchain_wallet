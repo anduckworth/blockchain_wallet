{
 "cells": [
  {
   "cell_type": "code",
   "execution_count": null,
   "id": "274ccbdf",
   "metadata": {},
   "outputs": [],
   "source": [
    "import subprocess\n",
    "import json\n",
    "from dotenv import load_dotenv\n",
    "import os\n",
    "from bit import PrivateKeyTestnet\n",
    "from bit.network import NetworkAPI\n",
    "from web3 import Account, middleware, Web3\n",
    "from web3.gas_strategies.time_based import medium_gas_price_strategy\n",
    "from web3.middleware import geth_poa_middleware\n",
    "\n",
    "\n",
    "# Load and set environment variables\n",
    "load_dotenv()\n",
    "mnemonic=os.getenv(\"mnemonic\")\n",
    "\n",
    "# Import constants.py and necessary functions from bit and web3\n",
    "from constants import *\n",
    "\n",
    "\n",
    "w3 = Web3(Web3.HTTPProvider(\"http://127.0.0.1:8545\"))\n",
    "w3.middleware_onion.inject(geth_poa_middleware, layer=0)\n",
    "\n",
    "print(mnemonic)"
   ]
  },
  {
   "cell_type": "code",
   "execution_count": null,
   "id": "f31f28b8",
   "metadata": {},
   "outputs": [],
   "source": [
    "# Create a function called `derive_wallets`\n",
    "def derive_wallets (mnemonic, coin):\n",
    "    command = f'php hd-wallet-derive/hd-wallet-derive.php -g --mnemonic=\"{mnemonic}\" --coin={coin} --cols=path,address,privkey,pubkey --format=json'\n",
    "    p = subprocess.Popen(command, stdout=subprocess.PIPE, shell=True)\n",
    "    output, err = p.communicate()\n",
    "    p_status = p.wait()\n",
    "    return json.loads(output)\n",
    "\n",
    "# Create a dictionary object called coins to store the output from `derive_wallets`.\n",
    "\n",
    "# Create a dictionary object called coins to store the output from `derive_wallets`.\n",
    "\n",
    "\n",
    "coins = {ETH:[],BTCTEST:[]}\n",
    "\n",
    "\n",
    "ethereum = derive_wallets(mnemonic, ETH)\n",
    "btctest = derive_wallets(mnemonic, BTCTEST)\n",
    "coins[ETH].append(ethereum[0:3])\n",
    "coins[BTCTEST].append(btctest[0:3])\n",
    "\n"
   ]
  },
  {
   "cell_type": "code",
   "execution_count": null,
   "metadata": {},
   "outputs": [],
   "source": [
    "coins['btc-test'][0][0]['privkey']"
   ]
  },
  {
   "cell_type": "code",
   "execution_count": null,
   "id": "c127133b",
   "metadata": {},
   "outputs": [],
   "source": [
    "# Create a function called `priv_key_to_account` that converts privkey strings to account objects.\n",
    "def priv_key_to_account(coin, priv_key):\n",
    "    if coin == ETH:\n",
    "        account = Account.privateKeyToAccount(priv_key)\n",
    "    if coin == BTCTEST:\n",
    "        account = PrivateKeyTestnet(priv_key)\n",
    "\n",
    "    return account\n",
    "\n",
    "\n",
    "# Create a function called `create_tx` that creates an unsigned transaction appropriate metadata.\n",
    "def create_tx(coin, account, to, amount):\n",
    "    if coin == ETH:\n",
    "        value = w3.toWei(amount, \"ether\")\n",
    "        gasEstimate = w3.eth.estimateGas({\"from\": account.address, \"to\": to, \"value\": amount})\n",
    "        return {\"from\": account.address,\"to\": to,\"value\": amount,\"gasPrice\": w3.eth.gasPrice,\"gas\": gasEstimate,\"nonce\": w3.eth.getTransactionCount(account.address), \"chainID\": w3.eth.chain_id}\n",
    "    if coin == BTCTEST:\n",
    "        return PrivateKeyTestnet.prepare_transaction(account.address, [(to, amount, BTC)])\n",
    "\n",
    "# Create a function called `send_tx` that calls `create_tx`, signs and sends the transaction.\n",
    "def send_tx(coin, account, to, amount):\n",
    "    if coin == ETH:\n",
    "        raw_tx = create_tx(coin, account.address, to, amount)\n",
    "        signed = account.sign_transaction(raw_tx)\n",
    "        return w3.eth.sendRawTransaction(signed.rawTransaction)\n",
    "    if coin == BTCTEST:\n",
    "        raw_tx = create_tx(coin, account, to, amount)\n",
    "        signed = account.sign_transaction(raw_tx)\n",
    "        return NetworkAPI.broadcast_tx_testnet(signed)"
   ]
  },
  {
   "cell_type": "code",
   "execution_count": null,
   "metadata": {},
   "outputs": [],
   "source": [
    "priv_key_to_account(BTCTEST, coins['btc-test'][0][0]['privkey'])"
   ]
  },
  {
   "cell_type": "code",
   "execution_count": null,
   "metadata": {},
   "outputs": [],
   "source": [
    "create_tx(ETH, priv_key_to_account(ETH, coins['btc-test'][0][0]['privkey']), 'mhhaamMC8wHcDZ1ZP3HtiL5TzVnTeNFBeR', .000001)"
   ]
  },
  {
   "cell_type": "code",
   "execution_count": null,
   "metadata": {},
   "outputs": [],
   "source": [
    "send_tx(BTCTEST, priv_key_to_account(BTCTEST, coins['btc-test'][0][0]['privkey']), 'mhhaamMC8wHcDZ1ZP3HtiL5TzVnTeNFBeR', .000001 )"
   ]
  },
  {
   "cell_type": "code",
   "execution_count": null,
   "metadata": {},
   "outputs": [],
   "source": []
  }
 ],
 "metadata": {
  "kernelspec": {
   "name": "python3",
   "display_name": "Python 3.6.13 64-bit"
  },
  "language_info": {
   "codemirror_mode": {
    "name": "ipython",
    "version": 3
   },
   "file_extension": ".py",
   "mimetype": "text/x-python",
   "name": "python",
   "nbconvert_exporter": "python",
   "pygments_lexer": "ipython3",
   "version": "3.6.13"
  },
  "interpreter": {
   "hash": "8a645187cda1fcf818cb30a6c24293bb0d89178f3e7a5b3d0d2758ebbcf0cd6c"
  }
 },
 "nbformat": 4,
 "nbformat_minor": 5
}